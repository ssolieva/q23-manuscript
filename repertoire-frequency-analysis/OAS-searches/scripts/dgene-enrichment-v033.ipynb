{
 "cells": [
  {
   "cell_type": "code",
   "execution_count": 1,
   "id": "c8ad6756",
   "metadata": {},
   "outputs": [],
   "source": [
    "large_font = 14\n",
    "plot_color = '#5596ce'"
   ]
  },
  {
   "cell_type": "code",
   "execution_count": 2,
   "id": "4eaeb12d",
   "metadata": {},
   "outputs": [],
   "source": [
    "import numpy as np\n",
    "import matplotlib.pyplot as plt\n",
    "import os.path\n",
    "import math"
   ]
  },
  {
   "cell_type": "code",
   "execution_count": 3,
   "id": "7ca23675",
   "metadata": {},
   "outputs": [],
   "source": [
    "which_search = 'search_03'"
   ]
  },
  {
   "cell_type": "code",
   "execution_count": 4,
   "id": "468d0b90",
   "metadata": {},
   "outputs": [
    {
     "name": "stdout",
     "output_type": "stream",
     "text": [
      "number of hits: 93891\n"
     ]
    }
   ],
   "source": [
    "logfile_path = \"all_log.txt\"\n",
    "\n",
    "# open the file:\n",
    "with open(logfile_path, \"r\") as fd: # import the results file \n",
    "    logfile = fd.read().splitlines() # read in the results\n",
    "    logfile_split = [] \n",
    "    for line in logfile:\n",
    "        logfile_split.append(line.split()) # save each line to the list logfile_split\n",
    "fd.close()\n",
    "\n",
    "print(\"number of hits:\", len(logfile_split))"
   ]
  },
  {
   "cell_type": "code",
   "execution_count": 5,
   "id": "580ecadd",
   "metadata": {},
   "outputs": [
    {
     "name": "stdout",
     "output_type": "stream",
     "text": [
      "Each line is a \"hit\".\n",
      "There are 93891 lines\n",
      "Each line has 13 entries. Entries can include donor name, CDRH3, etc.\n",
      "Here is an example of what is in the first line:\n",
      "\t Donor:      Donor-3\n",
      "\t Vgene:      IGHV2-26*01\n",
      "\t Dgene:      IGHD4-17*01\n",
      "\t Jgene:      IGHJ5*02\n",
      "\t CDRH3:      ARFLEDDYGDYARCNWFDP\n"
     ]
    }
   ],
   "source": [
    "# what is in this logfile_split file?\n",
    "print(f'Each line is a \"hit\".')\n",
    "print(f'There are {len(logfile_split)} lines')\n",
    "print(f'Each line has {len(logfile_split[0])} entries. Entries can include donor name, CDRH3, etc.')\n",
    "print(f'Here is an example of what is in the first line:')\n",
    "\n",
    "print(f'\\t Donor:      {logfile_split[0][2]}')\n",
    "print(f'\\t Vgene:      {logfile_split[0][3]}')\n",
    "print(f'\\t Dgene:      {logfile_split[0][4]}')\n",
    "print(f'\\t Jgene:      {logfile_split[0][5]}')\n",
    "print(f'\\t CDRH3:      {logfile_split[0][8]}')"
   ]
  },
  {
   "cell_type": "code",
   "execution_count": 6,
   "id": "b7ad1930",
   "metadata": {},
   "outputs": [
    {
     "name": "stdout",
     "output_type": "stream",
     "text": [
      "There are 93891 sequences\n"
     ]
    }
   ],
   "source": [
    "print(f'There are {len(logfile_split)} sequences')\n",
    "\n",
    "IGHD_possible = ['IGHD1', 'IGHD2', 'IGHD3', 'IGHD4', 'IGHD5', 'IGHD6','IGHD7']\n",
    "\n",
    "IGHD1 = [] \n",
    "IGHD2 = [] \n",
    "IGHD3 = [] \n",
    "IGHD4 = [] \n",
    "IGHD5 = [] \n",
    "IGHD6 = [] \n",
    "IGHD7 = [] \n",
    "for line in range(len(logfile_split)): # for each line \n",
    "    for entry in range(len(logfile_split[line])): # for each entry in each line\n",
    "        if 'IGHD1' in logfile_split[line][entry]:\n",
    "            IGHD1.append(1)\n",
    "        if 'IGHD2' in logfile_split[line][entry]:\n",
    "            IGHD2.append(1)\n",
    "        if 'IGHD3' in logfile_split[line][entry]:\n",
    "            IGHD3.append(1)\n",
    "        if 'IGHD4' in logfile_split[line][entry]:\n",
    "            IGHD4.append(1)\n",
    "        if 'IGHD5' in logfile_split[line][entry]:\n",
    "            IGHD5.append(1)\n",
    "        if 'IGHD6' in logfile_split[line][entry]:\n",
    "            IGHD6.append(1)\n",
    "        if 'IGHD7' in logfile_split[line][entry]:\n",
    "            IGHD7.append(1)"
   ]
  },
  {
   "cell_type": "code",
   "execution_count": 7,
   "id": "029ca070",
   "metadata": {},
   "outputs": [
    {
     "data": {
      "text/plain": [
       "93891"
      ]
     },
     "execution_count": 7,
     "metadata": {},
     "output_type": "execute_result"
    }
   ],
   "source": [
    "len(IGHD1)+len(IGHD2)+len(IGHD3)+len(IGHD4)+len(IGHD5)+len(IGHD6)+len(IGHD7)"
   ]
  },
  {
   "cell_type": "code",
   "execution_count": 8,
   "id": "4747acd2",
   "metadata": {},
   "outputs": [
    {
     "data": {
      "text/plain": [
       "True"
      ]
     },
     "execution_count": 8,
     "metadata": {},
     "output_type": "execute_result"
    }
   ],
   "source": [
    "d = 'IGHD2'\n",
    "d[4].isdigit()"
   ]
  },
  {
   "cell_type": "code",
   "execution_count": 9,
   "id": "af954ab5",
   "metadata": {},
   "outputs": [],
   "source": [
    "# save out the donor names\n",
    "donor_names = []\n",
    "cdrh3_seqs  = []\n",
    "full_seqs   = []\n",
    "jgene = []\n",
    "dgene = []\n",
    "\n",
    "for line in range(len(logfile_split)): # for each line \n",
    "    for entry in range(len(logfile_split[line])): # for each entry in each line\n",
    "        if logfile_split[line][entry].rfind(\"IGHV\") == 0: # find which entry the Vgene is at \n",
    "            jgene.append(logfile_split[line][entry])\n",
    "            dgene.append(logfile_split[line][entry+1])\n",
    "            if 'csv' in logfile_split[line][entry-1]: # if a .csv file is right before the Vgene,\n",
    "                donor_names.append(\"no_donor_name_found\") # then this line has no donor name\n",
    "            else: # if the .csv line is not right before the Vgene, \n",
    "                #jgene.append(logfile_split[line][entry+2])\n",
    "                #jgene.append(logfile_split[line][entry+2])\n",
    "                donor_names.append(logfile_split[line][entry-1]) # then save the reported donor name   \n",
    "        #if logfile_split[line][entry].rfind(\"IGHD\") == 0: # find which entry the Dgene is at \n",
    "        #    if str(logfile_split[line][entry][4]).isdigit() == True:\n",
    "        #        dgene.append(logfile_split[line][entry])\n",
    "        if logfile_split[line][entry].isdigit() == True:\n",
    "            if int(logfile_split[line][entry]) == len(logfile_split[line][entry-1]):\n",
    "                cdrh3_seqs.append(logfile_split[line][entry-1])     \n",
    "    full_seqs.append(logfile_split[line][-2])"
   ]
  },
  {
   "cell_type": "code",
   "execution_count": 10,
   "id": "03fe6406",
   "metadata": {},
   "outputs": [
    {
     "name": "stdout",
     "output_type": "stream",
     "text": [
      "['IGHD1-1*01' 'IGHD1-26*01' 'IGHD1-7*01' 'IGHD2-15*01' 'IGHD2-2*01'\n",
      " 'IGHD2-2*02' 'IGHD2-2*03' 'IGHD2-21*01' 'IGHD2-21*02' 'IGHD2-8*01'\n",
      " 'IGHD3-10*01' 'IGHD3-16*01' 'IGHD3-16*02' 'IGHD3-22*01' 'IGHD3-3*01'\n",
      " 'IGHD3-9*01' 'IGHD3/OR15-3a*01' 'IGHD4-11*01' 'IGHD4-17*01' 'IGHD4-23*01'\n",
      " 'IGHD4-4*01' 'IGHD4/OR15-4a*01' 'IGHD5-12*01' 'IGHD5-18*01' 'IGHD5-24*01'\n",
      " 'IGHD6-13*01' 'IGHD6-19*01' 'IGHD6-25*01' 'IGHD6-6*01'] 93891\n"
     ]
    }
   ],
   "source": [
    "print(np.unique(dgene), len(dgene))"
   ]
  },
  {
   "cell_type": "code",
   "execution_count": 11,
   "id": "4a7de5d9",
   "metadata": {},
   "outputs": [],
   "source": [
    "dgenes_unique = np.unique(dgene)\n",
    "dgene_counts = []\n",
    "for d in range(len(dgenes_unique)):\n",
    "    counter = []\n",
    "    for i in range(len(dgene)):\n",
    "        if dgene[i] == dgenes_unique[d]:\n",
    "            #print(jgene[i], jgenes_unique[j])\n",
    "            counter.append(1)\n",
    "    dgene_counts.append(sum(counter))"
   ]
  },
  {
   "cell_type": "code",
   "execution_count": 12,
   "id": "8a68a33a",
   "metadata": {},
   "outputs": [
    {
     "data": {
      "image/png": "[encoded data removed]",
      "text/plain": [
       "<Figure size 720x288 with 1 Axes>"
      ]
     },
     "metadata": {
      "needs_background": "light"
     },
     "output_type": "display_data"
    }
   ],
   "source": [
    "plt.figure(figsize=[10,4])\n",
    "plt.bar(dgenes_unique,dgene_counts, label=f'total seq.: {len(np.concatenate([dgene]))}',color = plot_color, edgecolor=\"black\", alpha=0.5)\n",
    "plt.xticks(fontsize=9, rotation=90)\n",
    "plt.ylabel(\"Number of Sequences\",  fontsize=14)\n",
    "plt.yscale(\"log\")\n",
    "plt.yticks(fontsize=12)\n",
    "plt.xlabel(\"DH gene\", fontsize=14)\n",
    "plt.legend(markerscale=0.6) \n",
    "#plt.title(f\"Expanded search {which_search}: Vgene, +/- 4\", fontsize=14)\n",
    "plt.title(\"Search 2: '^.{2,}EDDYG.{6,}'$ \\n 'no' and 'no_donor_name_found' included\", fontsize=14)\n",
    "plt.tight_layout()\n",
    "plt.savefig(\"DHgene_distribution.pdf\", dpi=500)\n",
    "plt.show()"
   ]
  },
  {
   "cell_type": "code",
   "execution_count": 13,
   "id": "27947392",
   "metadata": {},
   "outputs": [
    {
     "data": {
      "text/plain": [
       "93891"
      ]
     },
     "execution_count": 13,
     "metadata": {},
     "output_type": "execute_result"
    }
   ],
   "source": [
    "sum(dgene_counts)"
   ]
  },
  {
   "cell_type": "code",
   "execution_count": 14,
   "id": "7fbccfd5",
   "metadata": {},
   "outputs": [],
   "source": [
    "np.save(\"EDDYG_search_dgenes_with_no_and_noname\", np.array(dgene_counts)/93891)"
   ]
  },
  {
   "cell_type": "code",
   "execution_count": null,
   "id": "add35e57",
   "metadata": {},
   "outputs": [],
   "source": []
  },
  {
   "cell_type": "code",
   "execution_count": 15,
   "id": "0b5a7ea4",
   "metadata": {},
   "outputs": [
    {
     "data": {
      "text/plain": [
       "29"
      ]
     },
     "execution_count": 15,
     "metadata": {},
     "output_type": "execute_result"
    }
   ],
   "source": [
    "len(dgenes_unique)"
   ]
  },
  {
   "cell_type": "code",
   "execution_count": 16,
   "id": "32c2cd67",
   "metadata": {},
   "outputs": [
    {
     "data": {
      "text/plain": [
       "'IGHD1-1.01IGHD1-26.01IGHD1-7.01IGHD2-15.01IGHD2-2.01IGHD2-2.02IGHD2-2.03IGHD2-21.01IGHD2-21.02IGHD2-8.01IGHD3-10.01IGHD3-16.01IGHD3-16.02IGHD3-22.01IGHD3-3.01IGHD3-9.01IGHD3/OR15-3a.01IGHD4-11.01IGHD4-17.01IGHD4-23.01IGHD4-4.01IGHD4/OR15-4a.01IGHD5-12.01IGHD5-18.01IGHD5-24.01IGHD6-13.01IGHD6-19.01IGHD6-25.01IGHD6-6.01'"
      ]
     },
     "execution_count": 16,
     "metadata": {},
     "output_type": "execute_result"
    }
   ],
   "source": [
    "# 05292024 getting a list of d genes so that I can search the OAS database for each one: \n",
    "\"IGHD1-1.01\" \"IGHD1-26.01\" \"IGHD1-7.01\" \"IGHD2-15.01\" \"IGHD2-2.01\" \"IGHD2-2.02\" \"IGHD2-2.03\" \"IGHD2-21.01\" \"IGHD2-21.02\" \"IGHD2-8.01\" \"IGHD3-10.01\" \"IGHD3-16.01\" \"IGHD3-16.02\" \"IGHD3-22.01\" \"IGHD3-3.01\" \"IGHD3-9.01\" \"IGHD3/OR15-3a.01\" \"IGHD4-11.01\" \"IGHD4-17.01\" \"IGHD4-23.01\" \"IGHD4-4.01\" \"IGHD4/OR15-4a.01\" \"IGHD5-12.01\" \"IGHD5-18.01\" \"IGHD5-24.01\" \"IGHD6-13.01\" \"IGHD6-19.01\" \"IGHD6-25.01\" \"IGHD6-6.01\"\n",
    "\n",
    "#93891\n",
    "    "
   ]
  },
  {
   "cell_type": "code",
   "execution_count": 17,
   "id": "79ed24d5",
   "metadata": {},
   "outputs": [],
   "source": [
    "import numpy as np\n",
    "import matplotlib.pyplot as plt\n",
    "\n",
    "specific_d_genes = [\"IGHD1-1*01\",\"IGHD1-26*01\",\"IGHD1-7*01\",\"IGHD2-15*01\",\"IGHD2-2*01\",\"IGHD2-2*02\",\"IGHD2-2*03\",\"IGHD2-21*01\",\"IGHD2-21*.02\",\"IGHD2-8*01\",\"IGHD3-10*01\",\"IGHD3-16*01\",\"IGHD3-16*.02\",\"IGHD3-22*01\",\"IGHD3-3*01\",\"IGHD3-9*01\",\"IGHD3/OR15-3a*01\",\"IGHD4-11*01\",\"IGHD4-17*01\",\"IGHD4-23*01\",\"IGHD4-4*01\",\"IGHD4/OR15-4a*01\",\"IGHD5-12*01\",\"IGHD5-18*01\",\"IGHD5-24*01\",\"IGHD6-13*01\",\"IGHD6-19*01\",\"IGHD6-25*01\",\"IGHD6-6*01\"]\n",
    "\n",
    "\n",
    "# load in the search data results:\n",
    "numerator = np.load('EDDYG_search_dgenes_with_no_and_noname.npy')\n",
    "\n",
    "sample_data_path = '/Users/ssolieva/Desktop/Kulp_lab/projects/OAS_database_searches/gene_counts/IGHD/specific_genes/final_dgenes_counts_output.txt'\n",
    "\n",
    "with open(sample_data_path) as f:\n",
    "    lines = [line.rstrip() for line in f]\n",
    "    \n",
    "bar_plot_data = []\n",
    "for line in lines:\n",
    "    split_line = line.split(\" \")\n",
    "    bar_plot_data.append(int(split_line[1]))\n",
    "\n",
    "#print(f'tracking progress: {np.sum(bar_plot_data)/1000000} million')\n",
    "total_seqs_in_OAS = 1525390191\n",
    "denominator = np.array(bar_plot_data)/total_seqs_in_OAS"
   ]
  },
  {
   "cell_type": "code",
   "execution_count": 18,
   "id": "5eeb1fc4",
   "metadata": {},
   "outputs": [],
   "source": [
    "plt.figure(figsize=[20,8])\n",
    "plt.ylabel('enrichment', fontsize=16, weight='bold')\n",
    "plt.bar(specific_d_genes, numerator/denominator, color='#5596ce', edgecolor='k')\n",
    "plt.xticks(fontsize=14, rotation=80, weight='bold')\n",
    "plt.title('enrichment plot', fontsize=16, weight='bold')\n",
    "plt.yscale('log')\n",
    "plt.\n",
    "plt.tight_layout()\n",
    "plt.savefig(\"enrichment_plot.pdf\", dpi=300)\n",
    "plt.close()"
   ]
  },
  {
   "cell_type": "code",
   "execution_count": 35,
   "id": "247914ba",
   "metadata": {},
   "outputs": [],
   "source": [
    "plt.figure(figsize=[16,6])\n",
    "plt.ylabel('Enrichment Score', fontsize=18, weight='bold')\n",
    "plt.bar(specific_d_genes, np.log10(numerator/denominator), color='#5596ce', edgecolor='k', linewidth=5)\n",
    "plt.xticks(fontsize=14, rotation=80, weight='bold')\n",
    "plt.title(\"enrichment plot \\nSearch 2: '^.{2,}EDDYG.{6,}$' all CDRH3 lengths \\n including no and no name\", fontsize=18, weight='bold')\n",
    "#plt.yscale('log')\n",
    "plt.yticks(fontsize=14)\n",
    "#plt.ylim(-5,5)\n",
    "plt.tight_layout()\n",
    "plt.savefig(\"log_enrichment_plot.pdf\", dpi=300)\n",
    "plt.close()"
   ]
  },
  {
   "cell_type": "code",
   "execution_count": 42,
   "id": "0e548bfd",
   "metadata": {},
   "outputs": [
    {
     "data": {
      "text/plain": [
       "'/Users/ssolieva/Desktop/Kulp_lab/projects/OAS_database_searches/V033/updated_searches_05222024/search_03'"
      ]
     },
     "execution_count": 42,
     "metadata": {},
     "output_type": "execute_result"
    }
   ],
   "source": [
    "pwd"
   ]
  },
  {
   "cell_type": "code",
   "execution_count": 34,
   "id": "a0474fd8",
   "metadata": {},
   "outputs": [],
   "source": [
    "enrichment = np.log10(numerator/denominator)\n",
    "positive_color='#5596ce'\n",
    "negative_color='#dc6464'\n",
    "colors = []\n",
    "for i in range(len(enrichment)):\n",
    "    if enrichment[i] <= 0:\n",
    "        colors.append(negative_color)\n",
    "    if enrichment[i] > 0:\n",
    "        colors.append(positive_color)\n",
    "        \n",
    "plt.figure(figsize=[16,6])\n",
    "plt.ylabel('Enrichment Score', fontsize=18, weight='bold')\n",
    "plt.bar(specific_d_genes, np.log10(numerator/denominator), color=colors, edgecolor='k', linewidth=5)\n",
    "plt.xticks(fontsize=14, rotation=80, weight='bold')\n",
    "plt.title(\"enrichment plot \\nSearch 2: '^.{2,}EDDYG.{6,}$' all CDRH3 lengths \\n including no and no name\", fontsize=18, weight='bold')\n",
    "#plt.yscale('log')\n",
    "plt.yticks(fontsize=14)\n",
    "#plt.ylim(-5,5)\n",
    "plt.tight_layout()\n",
    "plt.savefig(\"log_enrichment_plot_2colors.pdf\", dpi=300)\n",
    "plt.close()"
   ]
  },
  {
   "cell_type": "code",
   "execution_count": 31,
   "id": "e1f55334",
   "metadata": {},
   "outputs": [],
   "source": [
    "enrichment = np.log10(numerator/denominator)\n",
    "positive_color='#5596ce'\n",
    "negative_color='#dc6464'\n",
    "colors = []\n",
    "for i in range(len(enrichment)):\n",
    "    if enrichment[i] <= 0:\n",
    "        colors.append(negative_color)\n",
    "    if enrichment[i] > 0:\n",
    "        colors.append(positive_color)"
   ]
  },
  {
   "cell_type": "code",
   "execution_count": 32,
   "id": "37649526",
   "metadata": {},
   "outputs": [
    {
     "data": {
      "text/plain": [
       "['#dc6464',\n",
       " '#dc6464',\n",
       " '#dc6464',\n",
       " '#dc6464',\n",
       " '#dc6464',\n",
       " '#dc6464',\n",
       " '#dc6464',\n",
       " '#dc6464',\n",
       " '#dc6464',\n",
       " '#dc6464',\n",
       " '#5596ce',\n",
       " '#dc6464',\n",
       " '#5596ce',\n",
       " '#dc6464',\n",
       " '#dc6464',\n",
       " '#dc6464',\n",
       " '#dc6464',\n",
       " '#5596ce',\n",
       " '#5596ce',\n",
       " '#5596ce',\n",
       " '#dc6464',\n",
       " '#5596ce',\n",
       " '#dc6464',\n",
       " '#dc6464',\n",
       " '#dc6464',\n",
       " '#dc6464',\n",
       " '#dc6464',\n",
       " '#dc6464',\n",
       " '#dc6464']"
      ]
     },
     "execution_count": 32,
     "metadata": {},
     "output_type": "execute_result"
    }
   ],
   "source": [
    "colors"
   ]
  },
  {
   "cell_type": "code",
   "execution_count": null,
   "id": "95e35b29",
   "metadata": {},
   "outputs": [],
   "source": []
  }
 ],
 "metadata": {
  "kernelspec": {
   "display_name": "Python 3 (ipykernel)",
   "language": "python",
   "name": "python3"
  },
  "language_info": {
   "codemirror_mode": {
    "name": "ipython",
    "version": 3
   },
   "file_extension": ".py",
   "mimetype": "text/x-python",
   "name": "python",
   "nbconvert_exporter": "python",
   "pygments_lexer": "ipython3",
   "version": "3.9.12"
  }
 },
 "nbformat": 4,
 "nbformat_minor": 5
}
